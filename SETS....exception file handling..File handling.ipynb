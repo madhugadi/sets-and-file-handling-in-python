{
 "cells": [
  {
   "cell_type": "markdown",
   "metadata": {},
   "source": [
    "###set is a collection of elements \n",
    "###No duplicate entries are allowed\\\n",
    "####### sets are mutable data structures\n",
    "####### sets are iterable\n",
    "### Set objects cannot be indexed"
   ]
  },
  {
   "cell_type": "code",
   "execution_count": 1,
   "metadata": {},
   "outputs": [
    {
     "name": "stdout",
     "output_type": "stream",
     "text": [
      "<class 'set'>\n"
     ]
    }
   ],
   "source": [
    "## creating a simple set\n",
    "\n",
    "st={'Apple','Banana','Orange'}\n",
    "print(type(st))"
   ]
  },
  {
   "cell_type": "code",
   "execution_count": 2,
   "metadata": {},
   "outputs": [
    {
     "name": "stdout",
     "output_type": "stream",
     "text": [
      "<class 'set'>\n"
     ]
    }
   ],
   "source": [
    "s=set()\n",
    "print(type(s))"
   ]
  },
  {
   "cell_type": "code",
   "execution_count": 6,
   "metadata": {},
   "outputs": [
    {
     "ename": "TypeError",
     "evalue": "'set' object is not subscriptable",
     "output_type": "error",
     "traceback": [
      "\u001b[1;31m---------------------------------------------------------------------------\u001b[0m",
      "\u001b[1;31mTypeError\u001b[0m                                 Traceback (most recent call last)",
      "\u001b[1;32m<ipython-input-6-5aa07e1bfe7f>\u001b[0m in \u001b[0;36m<module>\u001b[1;34m\u001b[0m\n\u001b[1;32m----> 1\u001b[1;33m \u001b[0mst\u001b[0m\u001b[1;33m[\u001b[0m\u001b[1;36m0\u001b[0m\u001b[1;33m]\u001b[0m  \u001b[1;31m# set cannot be indexed\u001b[0m\u001b[1;33m\u001b[0m\u001b[1;33m\u001b[0m\u001b[0m\n\u001b[0m",
      "\u001b[1;31mTypeError\u001b[0m: 'set' object is not subscriptable"
     ]
    }
   ],
   "source": [
    "st[0]  # set cannot be indexed"
   ]
  },
  {
   "cell_type": "code",
   "execution_count": 7,
   "metadata": {},
   "outputs": [],
   "source": [
    "## add element to set\n",
    "st.remove('Banana')"
   ]
  },
  {
   "cell_type": "code",
   "execution_count": 20,
   "metadata": {},
   "outputs": [
    {
     "name": "stdout",
     "output_type": "stream",
     "text": [
      "{'Orange', 'Dhoni'}\n"
     ]
    }
   ],
   "source": [
    "print(st)"
   ]
  },
  {
   "cell_type": "code",
   "execution_count": 21,
   "metadata": {},
   "outputs": [],
   "source": [
    "## add element to set"
   ]
  },
  {
   "cell_type": "code",
   "execution_count": 22,
   "metadata": {},
   "outputs": [],
   "source": [
    "st.add('Dhoni')"
   ]
  },
  {
   "cell_type": "code",
   "execution_count": 23,
   "metadata": {},
   "outputs": [
    {
     "name": "stdout",
     "output_type": "stream",
     "text": [
      "{'Orange', 'Dhoni'}\n"
     ]
    }
   ],
   "source": [
    "print(st)"
   ]
  },
  {
   "cell_type": "code",
   "execution_count": 19,
   "metadata": {},
   "outputs": [
    {
     "name": "stdout",
     "output_type": "stream",
     "text": [
      "{'Orange', 'Dhoni'}\n"
     ]
    }
   ],
   "source": [
    "print(st)"
   ]
  },
  {
   "cell_type": "code",
   "execution_count": null,
   "metadata": {},
   "outputs": [],
   "source": []
  },
  {
   "cell_type": "code",
   "execution_count": 25,
   "metadata": {},
   "outputs": [],
   "source": [
    "## adding more than one element at a time"
   ]
  },
  {
   "cell_type": "code",
   "execution_count": 26,
   "metadata": {},
   "outputs": [
    {
     "name": "stdout",
     "output_type": "stream",
     "text": [
      "{'Apple', 'Cherry', 'papaya', 'Banana', 'Orange'}\n"
     ]
    }
   ],
   "source": [
    "st={'Apple','Banana','Orange'}\n",
    "st.update(['Cherry','papaya'])\n",
    "print(st)"
   ]
  },
  {
   "cell_type": "code",
   "execution_count": 27,
   "metadata": {},
   "outputs": [],
   "source": [
    "# sets will not allow duplication of data elements"
   ]
  },
  {
   "cell_type": "code",
   "execution_count": 28,
   "metadata": {},
   "outputs": [
    {
     "name": "stdout",
     "output_type": "stream",
     "text": [
      "{'Banana', 'Orange', 'Apple'}\n"
     ]
    }
   ],
   "source": [
    "st={'Apple','Banana','Orange','Banana'}\n",
    "print(st)"
   ]
  },
  {
   "cell_type": "code",
   "execution_count": 29,
   "metadata": {},
   "outputs": [],
   "source": [
    "## write a program to eliminate repeated entries in a list and keep simgle copy of each element"
   ]
  },
  {
   "cell_type": "code",
   "execution_count": 32,
   "metadata": {},
   "outputs": [
    {
     "data": {
      "text/plain": [
       "[1, 2, 3, 4, 5]"
      ]
     },
     "execution_count": 32,
     "metadata": {},
     "output_type": "execute_result"
    }
   ],
   "source": [
    "ls=[1,2,3,3,4,4,5]\n",
    "s=set(ls)\n",
    "list(s)"
   ]
  },
  {
   "cell_type": "code",
   "execution_count": 33,
   "metadata": {},
   "outputs": [],
   "source": [
    "## Extracting any one element from the set using lists"
   ]
  },
  {
   "cell_type": "code",
   "execution_count": 34,
   "metadata": {},
   "outputs": [
    {
     "name": "stdout",
     "output_type": "stream",
     "text": [
      "Apple\n"
     ]
    }
   ],
   "source": [
    "item=list(st)[2]\n",
    "print(item)"
   ]
  },
  {
   "cell_type": "code",
   "execution_count": 36,
   "metadata": {},
   "outputs": [
    {
     "name": "stdout",
     "output_type": "stream",
     "text": [
      "Banana\n",
      "Orange\n",
      "Apple\n"
     ]
    }
   ],
   "source": [
    "# set is an iterable object\n",
    "\n",
    "for i in st:\n",
    "    print(i)"
   ]
  },
  {
   "cell_type": "markdown",
   "metadata": {},
   "source": [
    "### lambda functions\n",
    "    - AN ananymous user-defined used to perform simple tasks\n",
    "    - Mostly one -liner code\n",
    "    - Useful while performing map,reduce,filter,operations\n",
    "    - useful in sorting based on a Key"
   ]
  },
  {
   "cell_type": "code",
   "execution_count": 42,
   "metadata": {},
   "outputs": [
    {
     "name": "stdout",
     "output_type": "stream",
     "text": [
      "15\n"
     ]
    }
   ],
   "source": [
    "# simple example\n",
    "\n",
    "x=lambda a : a+10\n",
    "print(x(5))"
   ]
  },
  {
   "cell_type": "code",
   "execution_count": 46,
   "metadata": {},
   "outputs": [
    {
     "name": "stdout",
     "output_type": "stream",
     "text": [
      "haiHello\n"
     ]
    }
   ],
   "source": [
    "y= lambda a :a+'Hello'\n",
    "print(y('hai'))"
   ]
  },
  {
   "cell_type": "code",
   "execution_count": 48,
   "metadata": {},
   "outputs": [
    {
     "name": "stdout",
     "output_type": "stream",
     "text": [
      "2\n",
      "49\n",
      "-49\n"
     ]
    }
   ],
   "source": [
    "# lambda function with two arguments\n",
    "\n",
    "x=lambda a,b:a*b\n",
    "print(x(1,2))\n",
    "print(x(7,7))\n",
    "print(x(7,-7))"
   ]
  },
  {
   "cell_type": "code",
   "execution_count": 49,
   "metadata": {},
   "outputs": [
    {
     "name": "stdout",
     "output_type": "stream",
     "text": [
      "[5, 7, 97, 77, 23, 73, 61]\n"
     ]
    }
   ],
   "source": [
    "# lambda function with filter () to get only odd numbers\n",
    "\n",
    "ls=[5,6,7,22,97,54,62,77,23,73,61]\n",
    "final_list=list(filter(lambda x:(x%2!=0),ls))\n",
    "print(final_list)"
   ]
  },
  {
   "cell_type": "code",
   "execution_count": 51,
   "metadata": {},
   "outputs": [
    {
     "name": "stdout",
     "output_type": "stream",
     "text": [
      "[6, 22, 54, 62]\n"
     ]
    }
   ],
   "source": [
    "final_lis=list(filter(lambda x :(x%2==0),ls))\n",
    "print(final_lis)"
   ]
  },
  {
   "cell_type": "code",
   "execution_count": 63,
   "metadata": {},
   "outputs": [
    {
     "name": "stdout",
     "output_type": "stream",
     "text": [
      "['hai', 'how', 'are', 'you', 'Dhoni']\n",
      "['hai', 'how', 'are', 'you']\n"
     ]
    }
   ],
   "source": [
    "# extrcat the words from  a string those having length of 3\n",
    "\n",
    "st=\"hai how are you Dhoni\"\n",
    "ls=st.split()\n",
    "print(ls)\n",
    "\n",
    "final_st=list(filter(lambda x : ((len(x)==3)),ls))\n",
    "print(final_st)"
   ]
  },
  {
   "cell_type": "code",
   "execution_count": 65,
   "metadata": {},
   "outputs": [
    {
     "name": "stdout",
     "output_type": "stream",
     "text": [
      "['hai', 'how']\n"
     ]
    }
   ],
   "source": [
    "## extract the words from a string which are staring with 'h'\n",
    "\n",
    "st=\" hai how are you\"\n",
    "ls=st.split()\n",
    "f_st=list(filter(lambda x :(x.startswith('h')),ls))\n",
    "print(f_st)"
   ]
  },
  {
   "cell_type": "markdown",
   "metadata": {},
   "source": [
    "#### Write a python function histogram(ls) that takes as input a list of integers with repetitions and returns a list of pairs as follows: for each number n that appears in ls,there should be exactly one pair(n,r) in the list returnned by the function,where r is the number pof repetitions of n in ls. the final list should be sorted in ascending order by r,the number of repetitions,for numbers that occur with same number of repetitions,arrange the pairs in ascending order of the value of the number,For example:"
   ]
  },
  {
   "cell_type": "code",
   "execution_count": 4,
   "metadata": {},
   "outputs": [
    {
     "name": "stdout",
     "output_type": "stream",
     "text": [
      "[(11, 1), (7, 2), (12, 2), (14, 2), (13, 4)]\n"
     ]
    }
   ],
   "source": [
    "def histogram(l):\n",
    "    ls=[]\n",
    "    for i in l:\n",
    "        ls.append((i,l.count(i)))\n",
    "        \n",
    "    ls=list(set(ls))\n",
    "    ls.sort(key=lambda x:(x[1],x[0]))\n",
    "    print(ls)\n",
    "    \n",
    "histogram([13,12,11,13,14,13,7,7,13,14,12])"
   ]
  },
  {
   "cell_type": "code",
   "execution_count": 7,
   "metadata": {},
   "outputs": [
    {
     "name": "stdout",
     "output_type": "stream",
     "text": [
      "[(1, 1), (6, 1), (2, 2), (3, 2), (4, 2), (5, 2)]\n"
     ]
    }
   ],
   "source": [
    "\n",
    "def hist(l):\n",
    "    ls=[]\n",
    "    for i in l:\n",
    "        ls.append((i,l.count(i)))\n",
    "        \n",
    "    ls=list(set(ls))\n",
    "    ls.sort(key=lambda x:(x[1],x[0]))\n",
    "    print(ls)\n",
    "    \n",
    "hist([1,2,3,4,6,2,3,4,5,5])"
   ]
  },
  {
   "cell_type": "code",
   "execution_count": 89,
   "metadata": {},
   "outputs": [
    {
     "name": "stdout",
     "output_type": "stream",
     "text": [
      "[10, 14, 44, 194, 108, 124, 154, 46, 146, 122]\n"
     ]
    }
   ],
   "source": [
    "### lambda function with map()\n",
    "\n",
    "ls=[5,7,22,97,54,62,77,23,73,61]\n",
    "final_list=list(map(lambda x: x*2,ls))\n",
    "print(final_list)\n",
    "    "
   ]
  },
  {
   "cell_type": "code",
   "execution_count": 92,
   "metadata": {},
   "outputs": [
    {
     "name": "stdout",
     "output_type": "stream",
     "text": [
      "['HAI', 'HOW', 'ARE', 'YOU']\n"
     ]
    }
   ],
   "source": [
    "## converting list of strings into uppercase using map()\n",
    "\n",
    "st=\"hai how are you\"\n",
    "ls=st.split()\n",
    "f_list=list(map(lambda x:x.upper(),ls))\n",
    "print(f_list)"
   ]
  },
  {
   "cell_type": "code",
   "execution_count": 62,
   "metadata": {},
   "outputs": [
    {
     "name": "stdout",
     "output_type": "stream",
     "text": [
      "193\n"
     ]
    }
   ],
   "source": [
    "# lambda function with reduce()\n",
    "\n",
    "from functools import reduce\n",
    "ls=[5,8,10,20,50,100]\n",
    "tot=reduce((lambda x,y:x+y),ls)\n",
    "print(tot)"
   ]
  },
  {
   "cell_type": "code",
   "execution_count": 99,
   "metadata": {},
   "outputs": [],
   "source": [
    "# write a program to create concatination of strings in a list"
   ]
  },
  {
   "cell_type": "code",
   "execution_count": 100,
   "metadata": {},
   "outputs": [
    {
     "name": "stdout",
     "output_type": "stream",
     "text": [
      "haihowareyou\n"
     ]
    }
   ],
   "source": [
    "st=\"hai how are you\"\n",
    "ls=st.split()\n",
    "conc=reduce((lambda x,y:x+y),ls)\n",
    "print(conc)"
   ]
  },
  {
   "cell_type": "code",
   "execution_count": 101,
   "metadata": {},
   "outputs": [
    {
     "data": {
      "text/plain": [
       "['hai', 'how', 'are', 'you']"
      ]
     },
     "execution_count": 101,
     "metadata": {},
     "output_type": "execute_result"
    }
   ],
   "source": [
    "ls"
   ]
  },
  {
   "cell_type": "markdown",
   "metadata": {},
   "source": [
    "### Exception handling\n",
    "\n",
    "    - Run-time errors are known as exceptions\n",
    "    - Whenever an error occurs during runtime,the system throws the error with system-generated   error message.The programmer must write a code to prevent this and display a proper message,so that the user can understand the exact cause of the error.\n",
    "    - note that,run-time errors cannot be prevented most of the times.\n",
    "    - One can write remedial actions when such error occurs\n",
    "    - Examples of run-time errors\n",
    "    -- Division by zero(Arithmetic Exception)\n",
    "    -- Index out of bound(while accessing a list,string etc)\n",
    "    -- key error (trying to extract non-existing key from dictionary)\n",
    "    -- file not found (Trying to open a file which is not there in current path)\n",
    "    -- DataBase errors like connection issues,privileges issues etc..\n",
    "    - In python exceptions are handled using the keywords try and except\n",
    "    - The try block includes the suspecious code that may cause runn-time error\n",
    "    - The except block includes the code indicating cause of the error,remedial actions etc..."
   ]
  },
  {
   "cell_type": "code",
   "execution_count": 105,
   "metadata": {},
   "outputs": [
    {
     "name": "stdout",
     "output_type": "stream",
     "text": [
      "enter a: 4\n",
      "enter b: 0\n",
      "Division by zero is not possible\n",
      "Program over\n"
     ]
    }
   ],
   "source": [
    "### \n",
    "\n",
    "a=int(input('enter a: '))\n",
    "b=int(input('enter b: '))\n",
    "try:\n",
    "    x=a/b\n",
    "    print('Division is:',x)\n",
    "except:\n",
    "    print('Division by zero is not possible')\n",
    "    #exit()\n",
    "print('Program over')"
   ]
  },
  {
   "cell_type": "code",
   "execution_count": 4,
   "metadata": {},
   "outputs": [
    {
     "name": "stdout",
     "output_type": "stream",
     "text": [
      "enter a:5\n",
      "Enter b:7\n",
      "0.7142857142857143\n",
      "program over\n"
     ]
    }
   ],
   "source": [
    "# examples of exception handling\n",
    "a=int(input('enter a:'))\n",
    "while True:\n",
    "    b=int(input('Enter b:'))\n",
    "    try:\n",
    "        x=a/b\n",
    "        break\n",
    "    except:\n",
    "        print('Division is not possible enter b again')\n",
    "print(x)\n",
    "print('program over')\n",
    "    "
   ]
  },
  {
   "cell_type": "markdown",
   "metadata": {},
   "source": [
    "### file handling\n",
    "       - Reading data from the files is a part of programming\n",
    "           - To read the data from file in unstructured format(like txt), we will use the function              Open()\n",
    "        - The open() function takes two arguments:\n",
    "        ---  Name of the file (with path,if required)\n",
    "        --- mode of a opening file\n",
    "        -  the purpose of opening a file is called as file opening mode\n",
    "        ----- r:for read(default mode)\n",
    "        ----- w:for write\n",
    "        -----a:for append\n",
    "        - The open() function returns a file -handler through which we can perfom operations on files\n",
    "        --The file handler works as an iterator and hence we can loop over it\n",
    "        - The read() Function:\n",
    "        --- it reads a file and returns entire content of the file as a single string\n",
    "        --- If the file has very huge content,then storing the data as a single string is not advisable as it may lead to shortage of memory\n",
    "        --- Hence,this function can be used only for smaller files\n",
    "        - The close() function\n",
    "        ---- a file which has been opened must be closed at the end of the program\n",
    "        ---- this wil safeguard the file from being corrupted and ensured proper maintaince\n",
    "        \n",
    "\n",
    "\n"
   ]
  },
  {
   "cell_type": "code",
   "execution_count": 6,
   "metadata": {},
   "outputs": [
    {
     "name": "stdout",
     "output_type": "stream",
     "text": [
      "enter a: 8\n",
      "enter b: 7\n",
      "over 1.1428571428571428\n"
     ]
    }
   ],
   "source": [
    "a=int(input('enter a: '))\n",
    "b=int(input('enter b: '))\n",
    "try:\n",
    "    x=a/b\n",
    "    print('over',x)\n",
    "except:\n",
    "    print('division is not possible')"
   ]
  },
  {
   "cell_type": "code",
   "execution_count": 8,
   "metadata": {},
   "outputs": [
    {
     "name": "stdout",
     "output_type": "stream",
     "text": [
      "file opened successfully\n",
      "hai how are you\n",
      "madhu\n",
      "kumar"
     ]
    }
   ],
   "source": [
    "## example to open a file and display the file contents\n",
    "\n",
    "try:\n",
    "    fhand=open('myfile.txt','r')\n",
    "    print('file opened successfully')\n",
    "except:\n",
    "    print('file cannot be opened')\n",
    "    exit()\n",
    "    \n",
    "for line in fhand:\n",
    "    \n",
    "    print(line,end='')\n",
    "    \n",
    "fhand.close()\n",
    "    "
   ]
  },
  {
   "cell_type": "code",
   "execution_count": 14,
   "metadata": {},
   "outputs": [
    {
     "name": "stdout",
     "output_type": "stream",
     "text": [
      "file opened successfully\n",
      "line number 1 : hai how are you\n",
      "\n",
      "line number 2 : madhu\n",
      "\n",
      "line number 3 : kumar\n"
     ]
    }
   ],
   "source": [
    "try:\n",
    "    fhand=open('myfile.txt','r')\n",
    "    print('file opened successfully')\n",
    "except:\n",
    "    print('file cannot be opened')\n",
    "    exit()\n",
    "count=0\n",
    "for line in fhand:\n",
    "    count=count+1\n",
    "    print(\"line number\",count,\":\",line)\n",
    "fhand.close()"
   ]
  },
  {
   "cell_type": "code",
   "execution_count": 6,
   "metadata": {},
   "outputs": [
    {
     "name": "stdout",
     "output_type": "stream",
     "text": [
      "Bangalore\n"
     ]
    }
   ],
   "source": [
    "st=\"Bangalore\"\n",
    "st2=\"\"\n",
    "for i in range(len(st)-1,-1,-1):\n",
    "    st2= st[i]+st2\n",
    "print(st2)"
   ]
  },
  {
   "cell_type": "code",
   "execution_count": 16,
   "metadata": {},
   "outputs": [
    {
     "name": "stdout",
     "output_type": "stream",
     "text": [
      "27\n",
      "The file contents are: hai how are you\n",
      "madhu\n",
      "kumar\n",
      "The first 20 charcaters of the file are: u\n"
     ]
    }
   ],
   "source": [
    "# usage of read function.This will read whole file as a single string and \n",
    "# store it into a variable of the program\n",
    "\n",
    "try:\n",
    "    fhand=open('myfile.txt')\n",
    "except:\n",
    "        print('file cannot be opened.')\n",
    "        exit()\n",
    "s=fhand.read()\n",
    "print(len(s))\n",
    "print('The file contents are:',s)\n",
    "print('The first 20 charcaters of the file are:',s[20])\n",
    "fhand.close()"
   ]
  },
  {
   "cell_type": "code",
   "execution_count": 18,
   "metadata": {},
   "outputs": [
    {
     "name": "stdout",
     "output_type": "stream",
     "text": [
      "enter a line:india lost the match\n",
      "enter a line:aap won the elections\n",
      "enter a line:Dhoni is the captain\n",
      "enter a line:papun is a waste felow\n",
      "enter a line:he dont have common sense\n",
      "File writing over!!\n"
     ]
    }
   ],
   "source": [
    "# Example to write the data into a file\n",
    "\n",
    "fout=open('f1.txt','w')\n",
    "for i in range(5):\n",
    "    line=input(\"enter a line:\")\n",
    "    fout.write(line+'\\n')\n",
    "    \n",
    "print('File writing over!!')\n",
    "fout.close()"
   ]
  },
  {
   "cell_type": "markdown",
   "metadata": {},
   "source": [
    "### Exercises\n",
    "    - write a program to count number of words in the file\n",
    "    - Write a program to search for a word and print only those lines which starts with the given word\n",
    "    - Program to count number of lines,words,characters in a file\n",
    "    - write a program to copy contents of one file into another"
   ]
  },
  {
   "cell_type": "code",
   "execution_count": 20,
   "metadata": {},
   "outputs": [
    {
     "name": "stdout",
     "output_type": "stream",
     "text": [
      "6\n"
     ]
    }
   ],
   "source": [
    "fhand=open('myfile.txt')\n",
    "s=fhand.read()\n",
    "ls=s.split()\n",
    "print(len(ls))\n",
    "fhand.close()"
   ]
  },
  {
   "cell_type": "code",
   "execution_count": 34,
   "metadata": {},
   "outputs": [
    {
     "name": "stdout",
     "output_type": "stream",
     "text": [
      "enter word:hai\n",
      "hai how are you\n",
      "\n"
     ]
    }
   ],
   "source": [
    "fhand=open('myfile.txt')\n",
    "\n",
    "word=input('enter word:')\n",
    "#s=fhand.read()\n",
    "for line in fhand:\n",
    "    if (line.startswith(word)):\n",
    "        print(line)\n",
    "fhand.close()"
   ]
  },
  {
   "cell_type": "code",
   "execution_count": 43,
   "metadata": {},
   "outputs": [
    {
     "name": "stdout",
     "output_type": "stream",
     "text": [
      "5\n"
     ]
    }
   ],
   "source": [
    "fhand=open('f1.txt')\n",
    "#s=fhand.read()\n",
    "ls=[]\n",
    "for line in fhand:\n",
    "    ls.append(line)\n",
    "print(len(ls))\n",
    "fhand.close()"
   ]
  },
  {
   "cell_type": "code",
   "execution_count": 51,
   "metadata": {},
   "outputs": [
    {
     "name": "stdout",
     "output_type": "stream",
     "text": [
      "113\n"
     ]
    }
   ],
   "source": [
    "fhand=open('f1.txt')\n",
    "s=fhand.read()\n",
    "print(len(s))\n",
    "fhand.close()"
   ]
  },
  {
   "cell_type": "code",
   "execution_count": 68,
   "metadata": {},
   "outputs": [
    {
     "name": "stdout",
     "output_type": "stream",
     "text": [
      "[['india', 'lost', 'the', 'match'], ['aap', 'won', 'the', 'elections'], ['Dhoni', 'is', 'the', 'captain'], ['papun', 'is', 'a', 'waste', 'felow'], ['he', 'dont', 'have', 'common', 'sense']]\n",
      "22\n"
     ]
    }
   ],
   "source": [
    "fhand=open('f1.txt')\n",
    "l=[]\n",
    "for line in fhand:\n",
    "    l.append(line.split())\n",
    "print(l)\n",
    "\n",
    "le=0\n",
    "for i in l:\n",
    "    le=len(i)+le\n",
    "print(le)"
   ]
  },
  {
   "cell_type": "code",
   "execution_count": 70,
   "metadata": {},
   "outputs": [],
   "source": [
    "fhand=open('f1.txt','r')\n",
    "s=fhand.read()\n",
    "fout=open('m.txt','w')\n",
    "fout.write(s)\n",
    "fout.close()"
   ]
  },
  {
   "cell_type": "code",
   "execution_count": 2,
   "metadata": {},
   "outputs": [
    {
     "name": "stdout",
     "output_type": "stream",
     "text": [
      "number of lines= 5\n",
      "number of words= 22\n",
      "number of characters= 113\n"
     ]
    }
   ],
   "source": [
    "## alternative of 3\n",
    "\n",
    "try:\n",
    "    fhand=open('f1.txt')\n",
    "except:\n",
    "    print(\"file not found\")\n",
    "    exit(0)\n",
    "lineCount=0\n",
    "wordCount=0\n",
    "charCount=0\n",
    "for line in fhand:\n",
    "    lineCount+=1\n",
    "    charCount+=len(line)\n",
    "    ls=line.split()\n",
    "    wordCount+=len(ls)\n",
    "print('number of lines=',lineCount)\n",
    "print('number of words=',wordCount)\n",
    "print('number of characters=',charCount)\n",
    "fhand.close()"
   ]
  },
  {
   "cell_type": "code",
   "execution_count": 6,
   "metadata": {},
   "outputs": [],
   "source": [
    "import os\n",
    "\n"
   ]
  },
  {
   "cell_type": "code",
   "execution_count": null,
   "metadata": {},
   "outputs": [],
   "source": []
  },
  {
   "cell_type": "code",
   "execution_count": null,
   "metadata": {},
   "outputs": [],
   "source": []
  },
  {
   "cell_type": "code",
   "execution_count": 3,
   "metadata": {},
   "outputs": [],
   "source": [
    "import os\n",
    "os.getcwd()\n",
    "os.chdir('C:\\\\Users\\\\HP\\\\Documents')"
   ]
  },
  {
   "cell_type": "code",
   "execution_count": 8,
   "metadata": {},
   "outputs": [],
   "source": [
    "import os"
   ]
  },
  {
   "cell_type": "code",
   "execution_count": 9,
   "metadata": {},
   "outputs": [
    {
     "data": {
      "text/plain": [
       "'C:\\\\Users\\\\HP\\\\OneDrive\\\\PYTHON\\\\DAY1'"
      ]
     },
     "execution_count": 9,
     "metadata": {},
     "output_type": "execute_result"
    }
   ],
   "source": [
    "os.getcwd()"
   ]
  },
  {
   "cell_type": "code",
   "execution_count": 19,
   "metadata": {},
   "outputs": [
    {
     "data": {
      "text/plain": [
       "'C:\\\\Users\\\\HP\\\\OneDrive\\\\Documents'"
      ]
     },
     "execution_count": 19,
     "metadata": {},
     "output_type": "execute_result"
    }
   ],
   "source": [
    "os.getcwd()"
   ]
  },
  {
   "cell_type": "code",
   "execution_count": null,
   "metadata": {},
   "outputs": [],
   "source": []
  },
  {
   "cell_type": "code",
   "execution_count": null,
   "metadata": {},
   "outputs": [],
   "source": []
  },
  {
   "cell_type": "code",
   "execution_count": null,
   "metadata": {},
   "outputs": [],
   "source": []
  },
  {
   "cell_type": "code",
   "execution_count": null,
   "metadata": {},
   "outputs": [],
   "source": []
  }
 ],
 "metadata": {
  "kernelspec": {
   "display_name": "Python 3",
   "language": "python",
   "name": "python3"
  },
  "language_info": {
   "codemirror_mode": {
    "name": "ipython",
    "version": 3
   },
   "file_extension": ".py",
   "mimetype": "text/x-python",
   "name": "python",
   "nbconvert_exporter": "python",
   "pygments_lexer": "ipython3",
   "version": "3.7.3"
  }
 },
 "nbformat": 4,
 "nbformat_minor": 2
}
